{
 "cells": [
  {
   "cell_type": "code",
   "execution_count": 1,
   "id": "e2eedddc",
   "metadata": {},
   "outputs": [],
   "source": [
    "import openai\n",
    "from datasets import load_dataset\n",
    "from datasets import Dataset\n",
    "import pandas as pd\n",
    "import time\n",
    "import json\n",
    "import ast\n",
    "import torch\n",
    "from torch.utils.data import ConcatDataset, DataLoader\n",
    "import nni\n",
    "from datasets import load_dataset, load_metric, concatenate_datasets\n",
    "from transformers import AutoTokenizer, DataCollatorWithPadding, AutoModelForSequenceClassification, EvalPrediction\n",
    "from transformers.trainer import Trainer\n",
    "from transformers.training_args import TrainingArguments\n",
    "import evaluate\n",
    "import numpy as np\n",
    "from sklearn.metrics import accuracy_score\n",
    "from transformers import AdamW"
   ]
  },
  {
   "cell_type": "code",
   "execution_count": 2,
   "id": "b13093fc",
   "metadata": {},
   "outputs": [],
   "source": [
    "class CustomDataCollator(DataCollatorWithPadding):\n",
    "    def __call__(self, batch):\n",
    "        claims = [element['claim'] for element in batch]\n",
    "        evidences = [element['evidence'] for element in batch]\n",
    "        tokenized = tokenizer(claims, evidences, return_tensors='pt', padding=True, truncation=True)\n",
    "        inputs = {key: value.to(device) for key, value in tokenized.items() if key != \"labels\"}\n",
    "        labels = torch.tensor([element['labels'] for element in batch]).to(device)\n",
    "        return {\"claim\": claims, \"evidence\": evidences, \"inputs\": inputs, \"labels\": labels}"
   ]
  },
  {
   "cell_type": "code",
   "execution_count": 3,
   "id": "8ec7cfaa",
   "metadata": {},
   "outputs": [],
   "source": [
    "def chat(message): \n",
    "    response = openai.ChatCompletion.create( \n",
    "        model=\"gpt-3.5-turbo\", \n",
    "        messages=[ \n",
    "            {\"role\": \"user\", \"content\": f\"{message}\"}, \n",
    "        ] \n",
    "    ) \n",
    "    return response['choices'][0]['message']['content']"
   ]
  },
  {
   "cell_type": "code",
   "execution_count": 4,
   "id": "bc7da454",
   "metadata": {},
   "outputs": [],
   "source": [
    "def train(model, optimizer, train_dataloader, test_dataloader, num_epochs):\n",
    "    misclassified_data = []\n",
    "    for epoch in range(num_epochs):\n",
    "        model.train()\n",
    "        total_loss = 0.0\n",
    "        all_preds = []\n",
    "        all_labels = []\n",
    "        all_claims = []\n",
    "        all_evidences = []\n",
    "        for batch in train_dataloader:\n",
    "            inputs = batch[\"inputs\"]\n",
    "            labels = batch[\"labels\"]\n",
    "            outputs = model(**inputs, labels=labels)\n",
    "            logits = outputs.logits\n",
    "            preds = torch.argmax(logits, dim=1)\n",
    "            all_preds.extend(preds.cpu().numpy())\n",
    "            all_labels.extend(labels.cpu().numpy())\n",
    "            loss = outputs.loss\n",
    "            optimizer.zero_grad()\n",
    "            loss.backward()\n",
    "            optimizer.step()\n",
    "            total_loss += loss.item()\n",
    "            all_claims.extend(batch['claim'])\n",
    "            all_evidences.extend(batch['evidence'])\n",
    "        misclassified_data.append([[claim, evidence, label] for (claim, evidence, pred, label) in zip(all_claims, all_evidences, all_preds, all_labels) if pred != label])\n",
    "        model.eval()\n",
    "        test_preds = []\n",
    "        test_labels = []\n",
    "        with torch.no_grad():\n",
    "            for batch in test_dataloader:\n",
    "                inputs = batch[\"inputs\"]\n",
    "                labels = batch[\"labels\"]\n",
    "                outputs = model(**inputs, labels=labels)\n",
    "                logits = outputs.logits\n",
    "                preds = torch.argmax(logits, dim=1)\n",
    "                test_preds.extend(preds.cpu().numpy())\n",
    "                test_labels.extend(labels.cpu().numpy())\n",
    "        accuracy = accuracy_score(test_labels, test_preds)\n",
    "        print(accuracy)\n",
    "    return misclassified_data"
   ]
  },
  {
   "cell_type": "code",
   "execution_count": 5,
   "id": "f3a5a16d",
   "metadata": {},
   "outputs": [],
   "source": [
    "def generateDataset(df, gpt):\n",
    "    support_prompt = df.sample(n = 5)\n",
    "    prompt_entries = \"\"\n",
    "    for index, row in support_prompt.iterrows():\n",
    "        prompt_entries += (\"Claim: \" + row['claim']  + \"Evidence: \" + evidence['evidence'] + \"Claim Label: Supports\")\n",
    "    prompt = \"Can you generate 10 new entries with a claim and evidence pair having a supports label similar to the below entries. Make sure that the entries reflect actual scientific consensus and adhere to the following json format without using any newline characters: {'claim': '', 'evidence': '', 'claim label' : ''}\"\n",
    "    prompt += prompt_entries\n",
    "    res = gpt(prompt)\n",
    "    return res"
   ]
  },
  {
   "cell_type": "code",
   "execution_count": 6,
   "id": "ceaf5314",
   "metadata": {},
   "outputs": [],
   "source": [
    "def generateDatasetRefute(df, gpt):\n",
    "    refute_prompt = df.sample(n = 5)\n",
    "    prompt_entries = \"\"\n",
    "    for index, row in refute_prompt.iterrows():\n",
    "        prompt_entries += (\"Claim: \" + row['claim']  + \"Evidence: \" + evidence['evidence'] + \"Claim Label: REFUTES\")\n",
    "    prompt = \"Can you generate 10 new entries with a claim and evidence pair having a refutes label similar to the below entries. Make sure that the entries reflect actual scientific consensus and adhere to the following json format without using any newline characters: {'claim': '', 'evidence': '', 'claim label' : ''}\"\n",
    "    prompt += prompt_entries\n",
    "    res = gpt(prompt)\n",
    "    return res"
   ]
  },
  {
   "cell_type": "code",
   "execution_count": 7,
   "id": "06d3faec",
   "metadata": {},
   "outputs": [],
   "source": [
    "def generateDataForModel(misclassified_data, frequency, generateDataMultiplier):\n",
    "    combined_array = np.concatenate(misclassified_data)\n",
    "    reshaped_array = np.array(combined_array).reshape(-1, 3)\n",
    "    misclassified_df = pd.DataFrame(reshaped_array, columns=['claim', 'evidence', 'claim_label'])\n",
    "    frequency_counts = misclassified_df['claim'].value_counts()\n",
    "    most_frequent_entries = frequency_counts[frequency_counts >= frequency].index\n",
    "    filtered_df = misclassified_df[misclassified_df['claim'].isin(most_frequent_entries)]\n",
    "    supports_df = filtered_df.loc[filtered_df['claim_label'] == '0']\n",
    "    generated_dataset = []\n",
    "    for i in range(generateDataMultiplier):\n",
    "        generated_dataset.append(generateDataset(supports_df, chat))\n",
    "        time.sleep(10)\n",
    "    final_dataset = []\n",
    "    for generated_entry_set in generated_dataset:\n",
    "        for generated_entry in generated_entry_set.split('\\n'):\n",
    "            try:\n",
    "                final_dataset.append(json.loads(json.dumps(ast.literal_eval(generated_entry))))\n",
    "            except:\n",
    "                continue\n",
    "    refutes_df = filtered_df.loc[filtered_df['claim_label'] == '1']\n",
    "    refutes_df.head()\n",
    "    refute_generated_dataset = []\n",
    "    for i in range(generateDataMultiplier):\n",
    "        refute_generated_dataset.append(generateDatasetRefute(refutes_df, chat))\n",
    "        time.sleep(10)\n",
    "    final_refute_dataset = []\n",
    "    for generated_entry_set in refute_generated_dataset:\n",
    "        for generated_entry in generated_entry_set.split('\\n'):\n",
    "            try:\n",
    "                final_refute_dataset.append(json.loads(json.dumps(ast.literal_eval(generated_entry))))\n",
    "            except:\n",
    "                continue\n",
    "    final_generated_dataset = []\n",
    "    final_generated_dataset.extend(final_dataset)\n",
    "    final_generated_dataset.extend(final_refute_dataset)\n",
    "    generated_train_dict = {}\n",
    "    for entry in final_generated_dataset:\n",
    "        if type(entry) == list:\n",
    "            for key, value in entry[0].items():\n",
    "                if key not in generated_train_dict:\n",
    "                    generated_train_dict[key] = []\n",
    "                generated_train_dict[key].append(value)\n",
    "        else:\n",
    "            for key, value in entry.items():\n",
    "                if key not in generated_train_dict:\n",
    "                    generated_train_dict[key] = []\n",
    "                generated_train_dict[key].append(value)\n",
    "    generated_train_dict['claim label'] = [0 if item == \"supports\" else 1 for item in generated_train_dict['claim label']]\n",
    "    return generated_train_dict"
   ]
  },
  {
   "cell_type": "code",
   "execution_count": 8,
   "id": "716e8d5a",
   "metadata": {},
   "outputs": [],
   "source": [
    "def finetuneModel(model, optimizer, data_dict, num_epochs, frequency, generateDataMultiplier, fineTuneEpochs):\n",
    "    dataset = Dataset.from_dict(data_dict)\n",
    "    dataset = dataset.train_test_split(test_size=0.8)\n",
    "    train_dataloader = DataLoader(dataset['train'], batch_size=32, shuffle=True, collate_fn=data_collator)\n",
    "    test_dataloader = DataLoader(dataset['test'], batch_size=32, shuffle=False, collate_fn=data_collator)\n",
    "    for _ in range(fineTuneEpochs):\n",
    "        misclassified_data = train(model, optimizer, train_dataloader, test_dataloader, num_epochs)\n",
    "        data_dict = generateDataForModel(misclassified_data, frequency, generateDataMultiplier)\n",
    "        dataset = Dataset.from_dict(data_dict)\n",
    "        dataset = dataset.rename_column(\"claim label\", 'labels')\n",
    "        train_dataloader = DataLoader(dataset, batch_size=32, shuffle=True, collate_fn=data_collator)"
   ]
  },
  {
   "cell_type": "code",
   "execution_count": 9,
   "id": "a08592e4",
   "metadata": {},
   "outputs": [],
   "source": [
    "dataset = load_dataset(\"climate_fever\")\n",
    "openai.api_key = \"\""
   ]
  },
  {
   "cell_type": "code",
   "execution_count": 10,
   "id": "f73260d8",
   "metadata": {},
   "outputs": [
    {
     "data": {
      "text/html": [
       "<div>\n",
       "<style scoped>\n",
       "    .dataframe tbody tr th:only-of-type {\n",
       "        vertical-align: middle;\n",
       "    }\n",
       "\n",
       "    .dataframe tbody tr th {\n",
       "        vertical-align: top;\n",
       "    }\n",
       "\n",
       "    .dataframe thead th {\n",
       "        text-align: right;\n",
       "    }\n",
       "</style>\n",
       "<table border=\"1\" class=\"dataframe\">\n",
       "  <thead>\n",
       "    <tr style=\"text-align: right;\">\n",
       "      <th></th>\n",
       "      <th>claim_id</th>\n",
       "      <th>claim</th>\n",
       "      <th>claim_label</th>\n",
       "      <th>evidences</th>\n",
       "    </tr>\n",
       "  </thead>\n",
       "  <tbody>\n",
       "    <tr>\n",
       "      <th>0</th>\n",
       "      <td>0</td>\n",
       "      <td>Global warming is driving polar bears toward e...</td>\n",
       "      <td>0</td>\n",
       "      <td>[{'evidence_id': 'Extinction risk from global ...</td>\n",
       "    </tr>\n",
       "    <tr>\n",
       "      <th>1</th>\n",
       "      <td>5</td>\n",
       "      <td>The sun has gone into ‘lockdown’ which could c...</td>\n",
       "      <td>0</td>\n",
       "      <td>[{'evidence_id': 'Famine:386', 'evidence_label...</td>\n",
       "    </tr>\n",
       "    <tr>\n",
       "      <th>2</th>\n",
       "      <td>6</td>\n",
       "      <td>The polar bear population has been growing.</td>\n",
       "      <td>1</td>\n",
       "      <td>[{'evidence_id': 'Polar bear:1332', 'evidence_...</td>\n",
       "    </tr>\n",
       "    <tr>\n",
       "      <th>3</th>\n",
       "      <td>9</td>\n",
       "      <td>Ironic' study finds more CO2 has slightly cool...</td>\n",
       "      <td>1</td>\n",
       "      <td>[{'evidence_id': 'Atmosphere of Mars:131', 'ev...</td>\n",
       "    </tr>\n",
       "    <tr>\n",
       "      <th>4</th>\n",
       "      <td>10</td>\n",
       "      <td>Human additions of CO2 are in the margin of er...</td>\n",
       "      <td>1</td>\n",
       "      <td>[{'evidence_id': 'Carbon dioxide in Earth's at...</td>\n",
       "    </tr>\n",
       "  </tbody>\n",
       "</table>\n",
       "</div>"
      ],
      "text/plain": [
       "  claim_id                                              claim  claim_label  \\\n",
       "0        0  Global warming is driving polar bears toward e...            0   \n",
       "1        5  The sun has gone into ‘lockdown’ which could c...            0   \n",
       "2        6        The polar bear population has been growing.            1   \n",
       "3        9  Ironic' study finds more CO2 has slightly cool...            1   \n",
       "4       10  Human additions of CO2 are in the margin of er...            1   \n",
       "\n",
       "                                           evidences  \n",
       "0  [{'evidence_id': 'Extinction risk from global ...  \n",
       "1  [{'evidence_id': 'Famine:386', 'evidence_label...  \n",
       "2  [{'evidence_id': 'Polar bear:1332', 'evidence_...  \n",
       "3  [{'evidence_id': 'Atmosphere of Mars:131', 'ev...  \n",
       "4  [{'evidence_id': 'Carbon dioxide in Earth's at...  "
      ]
     },
     "execution_count": 10,
     "metadata": {},
     "output_type": "execute_result"
    }
   ],
   "source": [
    "df = pd.DataFrame(dataset['test'])\n",
    "df.head()"
   ]
  },
  {
   "cell_type": "code",
   "execution_count": 11,
   "id": "ec0158b5",
   "metadata": {},
   "outputs": [],
   "source": [
    "evidences_list = []\n",
    "claims_list = []\n",
    "labels = []\n",
    "for index, row in df.iterrows():\n",
    "    label = row['claim_label']\n",
    "    evidences = row['evidences']\n",
    "    length = len(evidences_list)\n",
    "    for evidence in evidences:\n",
    "        if(evidence['evidence_label'] == label):\n",
    "            evidences_list.append(evidence['evidence'])\n",
    "            claims_list.append(row['claim'])\n",
    "            labels.append(label)\n",
    "            break"
   ]
  },
  {
   "cell_type": "code",
   "execution_count": 12,
   "id": "769a5182",
   "metadata": {},
   "outputs": [
    {
     "name": "stderr",
     "output_type": "stream",
     "text": [
      "Some weights of DistilBertForSequenceClassification were not initialized from the model checkpoint at distilbert-base-uncased and are newly initialized: ['classifier.bias', 'pre_classifier.bias', 'classifier.weight', 'pre_classifier.weight']\n",
      "You should probably TRAIN this model on a down-stream task to be able to use it for predictions and inference.\n"
     ]
    },
    {
     "data": {
      "text/plain": [
       "DistilBertForSequenceClassification(\n",
       "  (distilbert): DistilBertModel(\n",
       "    (embeddings): Embeddings(\n",
       "      (word_embeddings): Embedding(30522, 768, padding_idx=0)\n",
       "      (position_embeddings): Embedding(512, 768)\n",
       "      (LayerNorm): LayerNorm((768,), eps=1e-12, elementwise_affine=True)\n",
       "      (dropout): Dropout(p=0.1, inplace=False)\n",
       "    )\n",
       "    (transformer): Transformer(\n",
       "      (layer): ModuleList(\n",
       "        (0-5): 6 x TransformerBlock(\n",
       "          (attention): MultiHeadSelfAttention(\n",
       "            (dropout): Dropout(p=0.1, inplace=False)\n",
       "            (q_lin): Linear(in_features=768, out_features=768, bias=True)\n",
       "            (k_lin): Linear(in_features=768, out_features=768, bias=True)\n",
       "            (v_lin): Linear(in_features=768, out_features=768, bias=True)\n",
       "            (out_lin): Linear(in_features=768, out_features=768, bias=True)\n",
       "          )\n",
       "          (sa_layer_norm): LayerNorm((768,), eps=1e-12, elementwise_affine=True)\n",
       "          (ffn): FFN(\n",
       "            (dropout): Dropout(p=0.1, inplace=False)\n",
       "            (lin1): Linear(in_features=768, out_features=3072, bias=True)\n",
       "            (lin2): Linear(in_features=3072, out_features=768, bias=True)\n",
       "            (activation): GELUActivation()\n",
       "          )\n",
       "          (output_layer_norm): LayerNorm((768,), eps=1e-12, elementwise_affine=True)\n",
       "        )\n",
       "      )\n",
       "    )\n",
       "  )\n",
       "  (pre_classifier): Linear(in_features=768, out_features=768, bias=True)\n",
       "  (classifier): Linear(in_features=768, out_features=3, bias=True)\n",
       "  (dropout): Dropout(p=0.2, inplace=False)\n",
       ")"
      ]
     },
     "execution_count": 12,
     "metadata": {},
     "output_type": "execute_result"
    }
   ],
   "source": [
    "device = torch.device(\"cpu\")\n",
    "model = AutoModelForSequenceClassification.from_pretrained('distilbert-base-uncased', num_labels=3)\n",
    "model.to(device)"
   ]
  },
  {
   "cell_type": "code",
   "execution_count": 13,
   "id": "3f103bb2",
   "metadata": {},
   "outputs": [
    {
     "name": "stderr",
     "output_type": "stream",
     "text": [
      "C:\\Users\\Harshit\\AppData\\Roaming\\Python\\Python311\\site-packages\\transformers\\optimization.py:411: FutureWarning: This implementation of AdamW is deprecated and will be removed in a future version. Use the PyTorch implementation torch.optim.AdamW instead, or set `no_deprecation_warning=True` to disable this warning\n",
      "  warnings.warn(\n"
     ]
    }
   ],
   "source": [
    "optimizer = AdamW(model.parameters(), lr=1e-5)\n",
    "tokenizer = AutoTokenizer.from_pretrained('distilbert-base-uncased')"
   ]
  },
  {
   "cell_type": "code",
   "execution_count": 14,
   "id": "016c39e0",
   "metadata": {},
   "outputs": [],
   "source": [
    "data_collator = CustomDataCollator(tokenizer=tokenizer)"
   ]
  },
  {
   "cell_type": "code",
   "execution_count": 15,
   "id": "04ef90ca",
   "metadata": {},
   "outputs": [],
   "source": [
    "data_dict = {\n",
    "    \"claim\": claims_list,\n",
    "    \"evidence\": evidences_list,\n",
    "    \"labels\": labels,\n",
    "}"
   ]
  },
  {
   "cell_type": "code",
   "execution_count": null,
   "id": "7bfeb1b5",
   "metadata": {},
   "outputs": [],
   "source": [
    "finetuneModel(model, optimizer, data_dict, 5, 2, 30, 3)"
   ]
  }
 ],
 "metadata": {
  "kernelspec": {
   "display_name": "Python 3 (ipykernel)",
   "language": "python",
   "name": "python3"
  },
  "language_info": {
   "codemirror_mode": {
    "name": "ipython",
    "version": 3
   },
   "file_extension": ".py",
   "mimetype": "text/x-python",
   "name": "python",
   "nbconvert_exporter": "python",
   "pygments_lexer": "ipython3",
   "version": "3.11.5"
  }
 },
 "nbformat": 4,
 "nbformat_minor": 5
}
